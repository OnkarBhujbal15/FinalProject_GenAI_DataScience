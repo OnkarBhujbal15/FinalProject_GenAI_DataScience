{
 "cells": [
  {
   "cell_type": "code",
   "execution_count": 1,
   "id": "89e7caab-a1b7-44ed-9bba-6f9e332b9e2b",
   "metadata": {},
   "outputs": [
    {
     "name": "stderr",
     "output_type": "stream",
     "text": [
      "C:\\Users\\onkar\\AppData\\Local\\Programs\\Python\\Python313\\Lib\\site-packages\\tqdm\\auto.py:21: TqdmWarning: IProgress not found. Please update jupyter and ipywidgets. See https://ipywidgets.readthedocs.io/en/stable/user_install.html\n",
      "  from .autonotebook import tqdm as notebook_tqdm\n"
     ]
    }
   ],
   "source": [
    "import torch\n",
    "import torchvision\n",
    "import torchvision.transforms as T\n",
    "import torch.nn as nn\n",
    "import torch.optim as optim\n",
    "import timm\n",
    "import os"
   ]
  },
  {
   "cell_type": "code",
   "execution_count": 2,
   "id": "85a5ab1f-38cc-4d20-82da-81e587f43ef0",
   "metadata": {},
   "outputs": [],
   "source": [
    "device = torch.device(\"cuda\" if torch.cuda.is_available() else \"cpu\")\n",
    "\n",
    "# CIFAR-10 class labels\n",
    "cifar10_classes = [\n",
    "    \"airplane\", \"automobile\", \"bird\", \"cat\", \"deer\",\n",
    "    \"dog\", \"frog\", \"horse\", \"ship\", \"truck\"\n",
    "]"
   ]
  },
  {
   "cell_type": "code",
   "execution_count": 3,
   "id": "45f8a4c9-94df-422a-b1aa-3a39b5b0b935",
   "metadata": {},
   "outputs": [],
   "source": [
    "# Load ViT model\n",
    "model = timm.create_model(\"vit_tiny_patch16_224\", pretrained=True, num_classes=10).to(device)"
   ]
  },
  {
   "cell_type": "code",
   "execution_count": 4,
   "id": "9a08739b-4e12-427a-9196-6192d5ccecc5",
   "metadata": {},
   "outputs": [],
   "source": [
    "# Data transforms\n",
    "transform = T.Compose([\n",
    "    T.Resize((224, 224)),\n",
    "    T.ToTensor(),\n",
    "    T.Normalize(mean=(0.5,), std=(0.5,))\n",
    "])"
   ]
  },
  {
   "cell_type": "code",
   "execution_count": 5,
   "id": "dfd6465f-2238-4ab1-b235-1f87068def1a",
   "metadata": {},
   "outputs": [],
   "source": [
    "# CIFAR-10 dataset\n",
    "train_data = torchvision.datasets.CIFAR10(root=\"./data\", train=True, download=True, transform=transform)\n",
    "test_data = torchvision.datasets.CIFAR10(root=\"./data\", train=False, download=True, transform=transform)\n",
    "train_loader = torch.utils.data.DataLoader(train_data, batch_size=64, shuffle=True)\n",
    "test_loader = torch.utils.data.DataLoader(test_data, batch_size=64, shuffle=False)"
   ]
  },
  {
   "cell_type": "code",
   "execution_count": 6,
   "id": "46a93eae-7c9e-4928-953e-96ed5b52f971",
   "metadata": {},
   "outputs": [],
   "source": [
    "# Loss and optimizer\n",
    "criterion = nn.CrossEntropyLoss()\n",
    "optimizer = optim.Adam(model.parameters(), lr=1e-4)"
   ]
  },
  {
   "cell_type": "code",
   "execution_count": null,
   "id": "d0b6b5a0-8e50-4a6b-a8a3-ec3288a6b4c0",
   "metadata": {},
   "outputs": [
    {
     "name": "stdout",
     "output_type": "stream",
     "text": [
      "Training...\n"
     ]
    }
   ],
   "source": [
    "# Training pass (1 full loop)\n",
    "print(\"Training...\")\n",
    "model.train()\n",
    "train_correct, train_total = 0, 0\n",
    "for x, y in train_loader:\n",
    "    x, y = x.to(device), y.to(device)\n",
    "    optimizer.zero_grad()\n",
    "    out = model(x)\n",
    "    loss = criterion(out, y)\n",
    "    loss.backward()\n",
    "    optimizer.step()\n",
    "    train_correct += (out.argmax(1) == y).sum().item()\n",
    "    train_total += y.size(0)\n",
    "\n",
    "train_acc = train_correct / train_total * 100\n",
    "print(f\"Training Accuracy: {train_acc:.2f}%\")"
   ]
  },
  {
   "cell_type": "code",
   "execution_count": null,
   "id": "e074fcd5-aeb9-489d-8c07-c3a2cda9e03b",
   "metadata": {},
   "outputs": [],
   "source": [
    "# Testing accuracy\n",
    "print(\"Evaluating...\")\n",
    "model.eval()\n",
    "test_correct, test_total = 0, 0\n",
    "with torch.no_grad():\n",
    "    for x, y in test_loader:\n",
    "        x, y = x.to(device), y.to(device)\n",
    "        out = model(x)\n",
    "        test_correct += (out.argmax(1) == y).sum().item()\n",
    "        test_total += y.size(0)\n",
    "\n",
    "test_acc = test_correct / test_total * 100\n",
    "print(f\"Test Accuracy: {test_acc:.2f}%\")"
   ]
  },
  {
   "cell_type": "code",
   "execution_count": null,
   "id": "045708de-37f9-4905-ada8-94b1dbd0f8d4",
   "metadata": {},
   "outputs": [],
   "source": [
    "# Get current working directory\n",
    "base_dir = os.getcwd()  # This gives you the directory from where the script is run\n",
    "\n",
    "# Define relative save directory under current folder\n",
    "save_dir = os.path.join(base_dir, \"saved_models\")\n",
    "\n",
    "# Ensure directory exists\n",
    "os.makedirs(save_dir, exist_ok=True)\n",
    "\n",
    "# Save model\n",
    "model_path = os.path.join(save_dir, \"vit_cifar10.pth\")\n",
    "torch.save(model.state_dict(), model_path)\n",
    "\n",
    "print(f\"Model saved successfully at relative path: {os.path.relpath(model_path)}\")"
   ]
  }
 ],
 "metadata": {
  "kernelspec": {
   "display_name": "Python 3 (ipykernel)",
   "language": "python",
   "name": "python3"
  },
  "language_info": {
   "codemirror_mode": {
    "name": "ipython",
    "version": 3
   },
   "file_extension": ".py",
   "mimetype": "text/x-python",
   "name": "python",
   "nbconvert_exporter": "python",
   "pygments_lexer": "ipython3",
   "version": "3.13.1"
  }
 },
 "nbformat": 4,
 "nbformat_minor": 5
}
